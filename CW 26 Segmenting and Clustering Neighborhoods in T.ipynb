{
    "cells": [
        {
            "cell_type": "markdown",
            "metadata": {
                "collapsed": true
            },
            "source": "## Part 1"
        },
        {
            "cell_type": "code",
            "execution_count": null,
            "metadata": {},
            "outputs": [],
            "source": "#Import Libs\nimport numpy as np\nimport pandas as pd\nimport requests\nfrom bs4 import BeautifulSoup\nfrom lxml import etree"
        },
        {
            "cell_type": "code",
            "execution_count": null,
            "metadata": {},
            "outputs": [],
            "source": "#Define the URL\nurl = \"https://en.wikipedia.org/wiki/List_of_postal_codes_of_Canada:_M\""
        },
        {
            "cell_type": "code",
            "execution_count": null,
            "metadata": {
                "scrolled": true
            },
            "outputs": [],
            "source": "#Access the Data from Wiki and save as DataFrame\nres = requests.get(url)\nsoup = BeautifulSoup(res.text, 'lxml')\ntables = soup.select('table[class = \"wikitable sortable\"]')\ndf_list = []\nfor table in tables:\n    df_list.append(pd.concat(pd.read_html(table.prettify())))\n    pass\ndf_wiki = pd.concat(df_list)\ndf_wiki.head()"
        },
        {
            "cell_type": "code",
            "execution_count": null,
            "metadata": {
                "scrolled": true
            },
            "outputs": [],
            "source": "#Clean the DataFrame\ndf_data=df_wiki[~df_wiki['Borough'].isin(['Not assigned'])].reset_index().drop(columns='index')\ndf_data.head()"
        },
        {
            "cell_type": "code",
            "execution_count": null,
            "metadata": {},
            "outputs": [],
            "source": "#Print the number of rows of DataFrame\ndf_data.shape"
        },
        {
            "cell_type": "markdown",
            "metadata": {},
            "source": "## Part 2"
        },
        {
            "cell_type": "code",
            "execution_count": null,
            "metadata": {},
            "outputs": [],
            "source": "#Get Access to the Geo Data\ngeo_data_url = 'http://cocl.us/Geospatial_data'\ndf_geo_data = pd.read_csv(geo_data_url)\ndf_geo_data.head()"
        },
        {
            "cell_type": "code",
            "execution_count": null,
            "metadata": {},
            "outputs": [],
            "source": "#Combine the DataFrame\ndf_data_total = pd.merge(df_data,df_geo_data,how='inner',on='Postal Code')\ndf_data_total.head()"
        },
        {
            "cell_type": "markdown",
            "metadata": {},
            "source": "## Part 3"
        },
        {
            "cell_type": "code",
            "execution_count": null,
            "metadata": {},
            "outputs": [],
            "source": "#Visualize the map\n!pip install folium\nimport folium"
        },
        {
            "cell_type": "code",
            "execution_count": null,
            "metadata": {},
            "outputs": [],
            "source": "#Visualize the Canada Map\nmap_canada = folium.Map(location=[43.8, -79.4], zoom_start=11)\nmap_canada"
        },
        {
            "cell_type": "code",
            "execution_count": null,
            "metadata": {},
            "outputs": [],
            "source": "#Mark on the MAP\nincidents = folium.map.FeatureGroup()\nfor lat, lng, in zip(df_data_total.Latitude, df_data_total.Longitude):\n    incidents.add_child(\n        folium.features.CircleMarker(\n            [lat, lng],\n            radius=5, # define how big you want the circle markers to be\n            color='yellow',\n            fill=True,\n            fill_color='blue',\n            fill_opacity=0.6\n        )\n    )\n\n# add incidents to map\nmap_canada.add_child(incidents)"
        },
        {
            "cell_type": "code",
            "execution_count": null,
            "metadata": {},
            "outputs": [],
            "source": "#It seems like that neighborhoods distribution in Toronto is relatively even"
        }
    ],
    "metadata": {
        "kernelspec": {
            "display_name": "Python 3.6",
            "language": "python",
            "name": "python3"
        },
        "language_info": {
            "codemirror_mode": {
                "name": "ipython",
                "version": 3
            },
            "file_extension": ".py",
            "mimetype": "text/x-python",
            "name": "python",
            "nbconvert_exporter": "python",
            "pygments_lexer": "ipython3",
            "version": "3.6.9"
        }
    },
    "nbformat": 4,
    "nbformat_minor": 1
}